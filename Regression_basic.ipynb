{
 "cells": [
  {
   "cell_type": "markdown",
   "metadata": {
    "id": "WAyRDni_6GHU"
   },
   "source": [
    "## Практическая работа\n",
    "\n",
    "Есть два набора точек - *x_hw* и *y_hw*. В рамках практической работы нужно\n",
    "* визуализировать набор точек\n",
    "* найти коэффициенты регрессии $w_0, w_1$ по шагам, как в уроке\n",
    "* посчитать предсказание в виде $\\hat{y} = w_0 + w_1x$ и визуализировать его вместе с точками *x_hw* и *y_hw*"
   ]
  },
  {
   "cell_type": "code",
   "execution_count": 1,
   "metadata": {},
   "outputs": [],
   "source": [
    "import numpy as np\n",
    "import pandas as pd\n",
    "import matplotlib.pyplot as plt"
   ]
  },
  {
   "cell_type": "code",
   "execution_count": 3,
   "metadata": {},
   "outputs": [],
   "source": [
    "from sklearn.linear_model import LinearRegression"
   ]
  },
  {
   "cell_type": "code",
   "execution_count": 5,
   "metadata": {
    "id": "74wa1k6p6GHf"
   },
   "outputs": [],
   "source": [
    "x_hw = [50, 60, 70, 100]\n",
    "y_hw = [10, 15, 40, 45]"
   ]
  },
  {
   "cell_type": "code",
   "execution_count": 6,
   "metadata": {},
   "outputs": [
    {
     "data": {
      "image/png": "[encoded data removed]",
      "text/plain": [
       "<Figure size 432x288 with 1 Axes>"
      ]
     },
     "metadata": {
      "needs_background": "light"
     },
     "output_type": "display_data"
    }
   ],
   "source": [
    "plt.scatter(x_hw, y_hw, 40, 'g', 'o', alpha=0.8)\n",
    "plt.show()"
   ]
  },
  {
   "cell_type": "code",
   "execution_count": 10,
   "metadata": {},
   "outputs": [
    {
     "data": {
      "text/plain": [
       "array([[  1,  50],\n",
       "       [  1,  60],\n",
       "       [  1,  70],\n",
       "       [  1, 100]])"
      ]
     },
     "execution_count": 10,
     "metadata": {},
     "output_type": "execute_result"
    }
   ],
   "source": [
    "X = np.array([[1, x_hw[0]],\n",
    "             [1, x_hw[1]],\n",
    "             [1, x_hw[2]],\n",
    "             [1, x_hw[3]]])\n",
    "X"
   ]
  },
  {
   "cell_type": "code",
   "execution_count": 11,
   "metadata": {},
   "outputs": [
    {
     "data": {
      "text/plain": [
       "array([[10],\n",
       "       [15],\n",
       "       [40],\n",
       "       [45]])"
      ]
     },
     "execution_count": 11,
     "metadata": {},
     "output_type": "execute_result"
    }
   ],
   "source": [
    "Y = np.array([[y_hw[0]],\n",
    "             [y_hw[1]],\n",
    "             [y_hw[2]],\n",
    "             [y_hw[3]]])\n",
    "Y"
   ]
  },
  {
   "cell_type": "code",
   "execution_count": 13,
   "metadata": {},
   "outputs": [
    {
     "data": {
      "text/plain": [
       "array([[-22.5       ],\n",
       "       [  0.71428571]])"
      ]
     },
     "execution_count": 13,
     "metadata": {},
     "output_type": "execute_result"
    }
   ],
   "source": [
    "from numpy.linalg import inv\n",
    "\n",
    "w = inv(X.T.dot(X)).dot(X.T).dot(Y)\n",
    "w"
   ]
  },
  {
   "cell_type": "code",
   "execution_count": 20,
   "metadata": {},
   "outputs": [],
   "source": [
    "X_min = X[:,1].min()\n",
    "X_max = X[:,1].max()"
   ]
  },
  {
   "cell_type": "code",
   "execution_count": 22,
   "metadata": {},
   "outputs": [
    {
     "data": {
      "image/png": "[encoded data removed]",
      "text/plain": [
       "<Figure size 432x288 with 1 Axes>"
      ]
     },
     "metadata": {
      "needs_background": "light"
     },
     "output_type": "display_data"
    }
   ],
   "source": [
    "X_support = np.linspace(X_min, X_max, 100)\n",
    "Y_model = w[1][0]*X_support + w[0][0]\n",
    "plt.scatter(x_hw, y_hw, 40, 'g', 'o', alpha=0.8)\n",
    "plt.plot(X_support, Y_model)\n",
    "plt.show()"
   ]
  },
  {
   "cell_type": "code",
   "execution_count": 28,
   "metadata": {},
   "outputs": [
    {
     "data": {
      "text/plain": [
       "0.7142857142857149"
      ]
     },
     "execution_count": 28,
     "metadata": {},
     "output_type": "execute_result"
    }
   ],
   "source": [
    "#w[1][0]"
   ]
  }
 ],
 "metadata": {
  "colab": {
   "collapsed_sections": [],
   "provenance": []
  },
  "kernelspec": {
   "display_name": "Python 3 (ipykernel)",
   "language": "python",
   "name": "python3"
  },
  "language_info": {
   "codemirror_mode": {
    "name": "ipython",
    "version": 3
   },
   "file_extension": ".py",
   "mimetype": "text/x-python",
   "name": "python",
   "nbconvert_exporter": "python",
   "pygments_lexer": "ipython3",
   "version": "3.9.13"
  }
 },
 "nbformat": 4,
 "nbformat_minor": 1
}
