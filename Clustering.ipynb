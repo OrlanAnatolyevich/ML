{
 "cells": [
  {
   "cell_type": "markdown",
   "metadata": {
    "id": "ToOBomb3PAB4"
   },
   "source": [
    "## Clustering\n",
    "\n",
    "Надо найти расстояние от каждой точки из массива $X$ до центра кластера, а потом просуммировать эти расстояния. Это будет реализацией библиотечной функции `sklearn.metrics.pairwise.euclidean_distances` из первого урока.  В итоге у Вас должно получиться число чуть более $16$ - это и будет расстояние.\n",
    "$$\n",
    "\\sum_{i=1}^{k} \\mid x_i - c \\mid\n",
    "$$\n",
    "\n",
    "где для одного обучающего примера x, состоящего из двух координат:\n",
    "$$\n",
    "\\mid x - c \\mid = (x_1-c_1)^2 + (x_2-c_2)^2\n",
    "$$\n"
   ]
  },
  {
   "cell_type": "code",
   "execution_count": 1,
   "metadata": {
    "id": "nY5dFMW8PACP"
   },
   "outputs": [],
   "source": [
    "import numpy as np\n",
    "\n",
    "clust = np.array([\n",
    " [-0.5972191612445694, -0.5919098916910581],\n",
    " [-1.5838020751869848, 0.4743393635868491],\n",
    " [-1.892642118066139, -1.2770390481464395],\n",
    " [-1.021761443519372, -0.38446059106320013],\n",
    " [-0.628271339507516, -2.308149346281125],\n",
    " [-0.7180915776856387, 1.1805550909358404],\n",
    " [-1.543143767548152, -1.4163791359687334],\n",
    " [0.022103701018375554, -1.1279478858865397],\n",
    " [-0.7776518874305778, -0.4157532453316538],\n",
    " [-1.2073577296008344, -1.1308523658604184]\n",
    "])\n",
    "\n",
    "centroid = np.array([-0.9774245525274352, -0.032635425821084516])"
   ]
  },
  {
   "cell_type": "code",
   "execution_count": 5,
   "metadata": {},
   "outputs": [],
   "source": [
    "summ = []\n",
    "for i in range(len(clust)):\n",
    "    num = (clust[i][0] - centroid[0])**2 + (clust[i][1] - centroid[1])**2\n",
    "    summ.append(num)"
   ]
  },
  {
   "cell_type": "code",
   "execution_count": 7,
   "metadata": {},
   "outputs": [
    {
     "data": {
      "text/plain": [
       "16.31211696438564"
      ]
     },
     "execution_count": 7,
     "metadata": {},
     "output_type": "execute_result"
    }
   ],
   "source": [
    "sum(summ)"
   ]
  },
  {
   "cell_type": "markdown",
   "metadata": {
    "id": "O2lFNZ_EPACV"
   },
   "source": [
    "\n",
    "\n",
    "Обучите алгоритм k-средних для количества кластеров $n=3$ на том же датасете, который содержится в файле `data/clustering.pkl`. Визуализируйте результат:"
   ]
  },
  {
   "cell_type": "code",
   "execution_count": 10,
   "metadata": {
    "id": "GkTkaXo1PACW"
   },
   "outputs": [],
   "source": [
    "import pickle\n",
    "with open('clustering.pkl', 'rb') as f:\n",
    "    data_clustering = pickle.load(f)\n",
    "x = data_clustering['X']"
   ]
  },
  {
   "cell_type": "code",
   "execution_count": 12,
   "metadata": {},
   "outputs": [],
   "source": [
    "from sklearn.cluster import KMeans\n",
    "kmeans = KMeans(n_clusters = 3, random_state=42)\n",
    "kmeans_model = kmeans.fit(x)"
   ]
  },
  {
   "cell_type": "code",
   "execution_count": 13,
   "metadata": {},
   "outputs": [
    {
     "data": {
      "image/png": "[encoded data removed]",
      "text/plain": [
       "<Figure size 432x288 with 1 Axes>"
      ]
     },
     "metadata": {
      "needs_background": "light"
     },
     "output_type": "display_data"
    }
   ],
   "source": [
    "import matplotlib.pyplot as plt\n",
    "plt.scatter(x[:, 0], x[:, 1], s=40, marker='o', c=kmeans_model.labels_)\n",
    "plt.show()"
   ]
  },
  {
   "cell_type": "markdown",
   "metadata": {
    "id": "kxSaSMsuPACd"
   },
   "source": [
    "\n",
    "\n",
    "Попробуйте применить эвристику на практике: \n",
    "\n",
    "* используйте 10 запусков алгоритма $k$-средних для $k=2$ с параметрами\n",
    "<pre>\n",
    "kmeans_model = KMeans(n_clusters=2, n_init=1, random_state=None, algorithm='full', max_iter=2)\n",
    "</pre>\n",
    "* в каждом запуске сохраняйте координаты центроидов общий массив $c$. См. `cluster_centers_ : array, [n_clusters, n_features]`\n",
    "* визуализируйте координаты точек из $c$ на фоне исходного множества точек\n",
    "\n",
    "Результат будет примерно такой:\n",
    "![several_init_knn](https://248006.selcdn.ru/public/DS.%20Block%202.%20M7/several_init_knn.png)"
   ]
  },
  {
   "cell_type": "code",
   "execution_count": 68,
   "metadata": {
    "id": "Y7TYD_kRPACg"
   },
   "outputs": [
    {
     "name": "stderr",
     "output_type": "stream",
     "text": [
      "C:\\Anaconda 3\\lib\\site-packages\\sklearn\\cluster\\_kmeans.py:1036: UserWarning: KMeans is known to have a memory leak on Windows with MKL, when there are less chunks than available threads. You can avoid it by setting the environment variable OMP_NUM_THREADS=1.\n",
      "  warnings.warn(\n",
      "C:\\Anaconda 3\\lib\\site-packages\\sklearn\\cluster\\_kmeans.py:1036: UserWarning: KMeans is known to have a memory leak on Windows with MKL, when there are less chunks than available threads. You can avoid it by setting the environment variable OMP_NUM_THREADS=1.\n",
      "  warnings.warn(\n",
      "C:\\Anaconda 3\\lib\\site-packages\\sklearn\\cluster\\_kmeans.py:1036: UserWarning: KMeans is known to have a memory leak on Windows with MKL, when there are less chunks than available threads. You can avoid it by setting the environment variable OMP_NUM_THREADS=1.\n",
      "  warnings.warn(\n",
      "C:\\Anaconda 3\\lib\\site-packages\\sklearn\\cluster\\_kmeans.py:1036: UserWarning: KMeans is known to have a memory leak on Windows with MKL, when there are less chunks than available threads. You can avoid it by setting the environment variable OMP_NUM_THREADS=1.\n",
      "  warnings.warn(\n",
      "C:\\Anaconda 3\\lib\\site-packages\\sklearn\\cluster\\_kmeans.py:1036: UserWarning: KMeans is known to have a memory leak on Windows with MKL, when there are less chunks than available threads. You can avoid it by setting the environment variable OMP_NUM_THREADS=1.\n",
      "  warnings.warn(\n",
      "C:\\Anaconda 3\\lib\\site-packages\\sklearn\\cluster\\_kmeans.py:1036: UserWarning: KMeans is known to have a memory leak on Windows with MKL, when there are less chunks than available threads. You can avoid it by setting the environment variable OMP_NUM_THREADS=1.\n",
      "  warnings.warn(\n",
      "C:\\Anaconda 3\\lib\\site-packages\\sklearn\\cluster\\_kmeans.py:1036: UserWarning: KMeans is known to have a memory leak on Windows with MKL, when there are less chunks than available threads. You can avoid it by setting the environment variable OMP_NUM_THREADS=1.\n",
      "  warnings.warn(\n",
      "C:\\Anaconda 3\\lib\\site-packages\\sklearn\\cluster\\_kmeans.py:1036: UserWarning: KMeans is known to have a memory leak on Windows with MKL, when there are less chunks than available threads. You can avoid it by setting the environment variable OMP_NUM_THREADS=1.\n",
      "  warnings.warn(\n",
      "C:\\Anaconda 3\\lib\\site-packages\\sklearn\\cluster\\_kmeans.py:1036: UserWarning: KMeans is known to have a memory leak on Windows with MKL, when there are less chunks than available threads. You can avoid it by setting the environment variable OMP_NUM_THREADS=1.\n",
      "  warnings.warn(\n",
      "C:\\Anaconda 3\\lib\\site-packages\\sklearn\\cluster\\_kmeans.py:1036: UserWarning: KMeans is known to have a memory leak on Windows with MKL, when there are less chunks than available threads. You can avoid it by setting the environment variable OMP_NUM_THREADS=1.\n",
      "  warnings.warn(\n"
     ]
    }
   ],
   "source": [
    "kmeans_model_1 = KMeans(n_clusters=2, init = 'k-means++', n_init=1, random_state=None, algorithm='full', max_iter=2)\n",
    "cluster_centers = []\n",
    "\n",
    "for i in range(10):\n",
    "    model = kmeans_model_1.fit(x)\n",
    "    centroid = model.cluster_centers_\n",
    "    cluster_centers.append(centroid)"
   ]
  },
  {
   "cell_type": "code",
   "execution_count": 69,
   "metadata": {},
   "outputs": [
    {
     "data": {
      "image/png": "[encoded data removed]",
      "text/plain": [
       "<Figure size 432x288 with 1 Axes>"
      ]
     },
     "metadata": {
      "needs_background": "light"
     },
     "output_type": "display_data"
    }
   ],
   "source": [
    "cluster_centers = [list(center) for centers in cluster_centers for center in centers]\n",
    "cluster_centers = np.array(cluster_centers)\n",
    "plt.scatter(x[:, 0], x[:, 1], s=20, marker='o', c='yellow')\n",
    "plt.scatter(cluster_centers[:, 0], cluster_centers[:, 1], s=40, marker='o', c='navy')\n",
    "plt.show()"
   ]
  }
 ],
 "metadata": {
  "colab": {
   "provenance": []
  },
  "kernelspec": {
   "display_name": "Python 3 (ipykernel)",
   "language": "python",
   "name": "python3"
  },
  "language_info": {
   "codemirror_mode": {
    "name": "ipython",
    "version": 3
   },
   "file_extension": ".py",
   "mimetype": "text/x-python",
   "name": "python",
   "nbconvert_exporter": "python",
   "pygments_lexer": "ipython3",
   "version": "3.9.13"
  }
 },
 "nbformat": 4,
 "nbformat_minor": 1
}
