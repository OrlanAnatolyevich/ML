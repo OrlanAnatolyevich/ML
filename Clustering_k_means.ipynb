{
 "cells": [
  {
   "cell_type": "markdown",
   "metadata": {
    "id": "B3KaF1cvPTEr"
   },
   "source": [
    "## Clustering K-means\n",
    "\n",
    "\n",
    "Обучите *k-means* для количества кластеров $k=4$ на датасете `data/clustering.pkl`. Как изменилась метрика силуэтта? Стало лучше или хуже? Какое количество кластеров лучше, два или четыре?"
   ]
  },
  {
   "cell_type": "code",
   "execution_count": 4,
   "metadata": {
    "id": "4EerOYSgPTEu"
   },
   "outputs": [],
   "source": [
    "import numpy as np\n",
    "import matplotlib.pyplot as plt\n",
    "import pickle\n",
    "from sklearn.cluster import KMeans\n",
    "from sklearn.metrics.cluster import adjusted_mutual_info_score\n",
    "from sklearn.metrics import silhouette_score"
   ]
  },
  {
   "cell_type": "code",
   "execution_count": 5,
   "metadata": {},
   "outputs": [],
   "source": [
    "with open('7.10._clustering.pkl', 'rb') as f:\n",
    "    data_clustering = pickle.load(f)\n",
    "x = data_clustering['X']\n",
    "y = data_clustering['Y']"
   ]
  },
  {
   "cell_type": "code",
   "execution_count": 6,
   "metadata": {},
   "outputs": [
    {
     "data": {
      "text/plain": [
       "0.4417501080615704"
      ]
     },
     "execution_count": 6,
     "metadata": {},
     "output_type": "execute_result"
    }
   ],
   "source": [
    "kmeans_model = KMeans(n_clusters = 4, random_state=17).fit(x)\n",
    "silhouette_4 = silhouette_score(x, kmeans_model.labels_)\n",
    "silhouette_4"
   ]
  },
  {
   "cell_type": "code",
   "execution_count": 7,
   "metadata": {},
   "outputs": [
    {
     "data": {
      "text/plain": [
       "0.4465356047465253"
      ]
     },
     "execution_count": 7,
     "metadata": {},
     "output_type": "execute_result"
    }
   ],
   "source": [
    "kmeans_model_2 = KMeans(n_clusters = 2, random_state=17).fit(x)\n",
    "silhouette_2 = silhouette_score(x, kmeans_model_2.labels_)\n",
    "silhouette_2"
   ]
  },
  {
   "cell_type": "markdown",
   "metadata": {},
   "source": [
    "2 кластера лучше 4"
   ]
  },
  {
   "cell_type": "markdown",
   "metadata": {
    "id": "iUCVoJeaPTEz"
   },
   "source": [
    "\n",
    "\n",
    "Обучите *k-means* для количества кластеров $k=4$ на датасете `data/clustering.pkl`. Как изменилась метрика *AMI*? Стало лучше или хуже? Какое количество кластеров лучше по метрике AMI?"
   ]
  },
  {
   "cell_type": "code",
   "execution_count": 8,
   "metadata": {
    "id": "Q6sYr2h3PTE1"
   },
   "outputs": [
    {
     "data": {
      "text/plain": [
       "0.5827727212133396"
      ]
     },
     "execution_count": 8,
     "metadata": {},
     "output_type": "execute_result"
    }
   ],
   "source": [
    "kmeans_model_3 = KMeans(n_clusters = 4, random_state=17).fit(x)\n",
    "ami_4 = adjusted_mutual_info_score(y, kmeans_model_3.labels_, average_method = 'arithmetic')\n",
    "ami_4"
   ]
  },
  {
   "cell_type": "code",
   "execution_count": 9,
   "metadata": {},
   "outputs": [
    {
     "data": {
      "text/plain": [
       "0.9286022516535728"
      ]
     },
     "execution_count": 9,
     "metadata": {},
     "output_type": "execute_result"
    }
   ],
   "source": [
    "kmeans_model_4 = KMeans(n_clusters = 2, random_state=17).fit(x)\n",
    "ami_2 = adjusted_mutual_info_score(y, kmeans_model_4.labels_, average_method = 'arithmetic')\n",
    "ami_2"
   ]
  },
  {
   "cell_type": "markdown",
   "metadata": {},
   "source": [
    "2 кластера существенно лучше 4 кластеров"
   ]
  },
  {
   "cell_type": "markdown",
   "metadata": {
    "id": "fY8FY1FcPTE4"
   },
   "source": [
    "\n",
    "\n",
    "Загрузите датасет `clustering_hw.csv` из приложенной директории `data` и визуализируйте данные. Должно получится как-то так:\n",
    "\n",
    "![clustering_hw](https://248006.selcdn.ru/public/DS.%20Block%202.%20M7/clustering_hw.png)\n",
    "\n",
    "В рамках домашней работы\n",
    "\n",
    "1. вычислите оптимальное количество кластеров $k$\n",
    "1. обучите k-means с количеством кластеров  $k$\n",
    "1. к какому кластеру принадлежит точка $x=(5, 8)$? к какому кластеру принадлежит точка $x=(0, 5)$? Они принадлежат к разным кластерам или одному?\n",
    "1. Каково качество кластеризации по AMI"
   ]
  },
  {
   "cell_type": "code",
   "execution_count": 11,
   "metadata": {
    "id": "4XJifI-CPTE5"
   },
   "outputs": [],
   "source": [
    "import pandas as pd\n",
    "clustering_hw = pd.read_csv('7.10_clustering_hw.csv')\n",
    "x = clustering_hw.iloc[:, [0,1]]\n",
    "y = clustering_hw.iloc[:, [2]]"
   ]
  },
  {
   "cell_type": "code",
   "execution_count": 13,
   "metadata": {},
   "outputs": [],
   "source": [
    "from sklearn.metrics.pairwise import euclidean_distances"
   ]
  },
  {
   "cell_type": "code",
   "execution_count": 19,
   "metadata": {
    "scrolled": true
   },
   "outputs": [
    {
     "name": "stderr",
     "output_type": "stream",
     "text": [
      "C:\\Anaconda 3\\lib\\site-packages\\sklearn\\cluster\\_kmeans.py:1036: UserWarning: KMeans is known to have a memory leak on Windows with MKL, when there are less chunks than available threads. You can avoid it by setting the environment variable OMP_NUM_THREADS=2.\n",
      "  warnings.warn(\n"
     ]
    }
   ],
   "source": [
    "metrics = []\n",
    "max_cluster = 7\n",
    "for cluster_num in range(1, max_cluster):\n",
    "    kmeans_model_5 = KMeans(n_clusters = cluster_num,\n",
    "                           random_state = 17).fit(x)\n",
    "    centroids, labels = kmeans_model_5.cluster_centers_, kmeans_model_5.labels_\n",
    "    metric = 0\n",
    "    for centroid_label in range(cluster_num):\n",
    "        metric += euclidean_distances(x[labels==centroid_label], centroids[centroid_label, :].reshape(1,-1)).sum(axis=0)[0]\n",
    "    metrics.append(metric)\n"
   ]
  },
  {
   "cell_type": "code",
   "execution_count": 20,
   "metadata": {
    "scrolled": false
   },
   "outputs": [
    {
     "name": "stdout",
     "output_type": "stream",
     "text": [
      "the best cluster num: 3\n"
     ]
    },
    {
     "data": {
      "image/png": "[encoded data removed]",
      "text/plain": [
       "<Figure size 432x288 with 1 Axes>"
      ]
     },
     "metadata": {
      "needs_background": "light"
     },
     "output_type": "display_data"
    }
   ],
   "source": [
    "D = []\n",
    "for i in range(0, len(metrics) - 1):\n",
    "    d = abs(metrics[i + 1] - metrics[i]) / abs(metrics[i] - metrics[i-1])\n",
    "    D.append(d)\n",
    "\n",
    "print('the best cluster num: %s' %(np.argmin(D) + 1))\n",
    "plt.plot([i + 1 for i in range(len(metrics))], metrics)\n",
    "plt.show()"
   ]
  },
  {
   "cell_type": "code",
   "execution_count": 25,
   "metadata": {},
   "outputs": [
    {
     "name": "stderr",
     "output_type": "stream",
     "text": [
      "C:\\Anaconda 3\\lib\\site-packages\\sklearn\\base.py:450: UserWarning: X does not have valid feature names, but KMeans was fitted with feature names\n",
      "  warnings.warn(\n"
     ]
    },
    {
     "data": {
      "text/plain": [
       "array([1])"
      ]
     },
     "execution_count": 25,
     "metadata": {},
     "output_type": "execute_result"
    }
   ],
   "source": [
    "kmeans_model_6 = KMeans(n_clusters = 3, random_state = 17).fit(x)\n",
    "x_pred_1 = [[5, 8]]\n",
    "kmeans_model_6.predict(x_pred_1)"
   ]
  },
  {
   "cell_type": "code",
   "execution_count": 26,
   "metadata": {},
   "outputs": [
    {
     "name": "stderr",
     "output_type": "stream",
     "text": [
      "C:\\Anaconda 3\\lib\\site-packages\\sklearn\\base.py:450: UserWarning: X does not have valid feature names, but KMeans was fitted with feature names\n",
      "  warnings.warn(\n"
     ]
    },
    {
     "data": {
      "text/plain": [
       "array([0])"
      ]
     },
     "execution_count": 26,
     "metadata": {},
     "output_type": "execute_result"
    }
   ],
   "source": [
    "x_pred_2 = [[0, 5]]\n",
    "kmeans_model_6.predict(x_pred_2)"
   ]
  },
  {
   "cell_type": "markdown",
   "metadata": {},
   "source": [
    "Точки принадлежат разным кластерам."
   ]
  },
  {
   "cell_type": "code",
   "execution_count": 36,
   "metadata": {
    "scrolled": true
   },
   "outputs": [
    {
     "data": {
      "text/plain": [
       "0.9700074953683859"
      ]
     },
     "execution_count": 36,
     "metadata": {},
     "output_type": "execute_result"
    }
   ],
   "source": [
    "kmeans_pred = kmeans_model_6.predict(x)\n",
    "ami = adjusted_mutual_info_score(y.iloc[:, 0], kmeans_pred, average_method = 'arithmetic')\n",
    "ami"
   ]
  },
  {
   "cell_type": "code",
   "execution_count": null,
   "metadata": {
    "id": "tm_ipxKhPTE9"
   },
   "outputs": [],
   "source": []
  }
 ],
 "metadata": {
  "colab": {
   "collapsed_sections": [],
   "provenance": []
  },
  "kernelspec": {
   "display_name": "Python 3 (ipykernel)",
   "language": "python",
   "name": "python3"
  },
  "language_info": {
   "codemirror_mode": {
    "name": "ipython",
    "version": 3
   },
   "file_extension": ".py",
   "mimetype": "text/x-python",
   "name": "python",
   "nbconvert_exporter": "python",
   "pygments_lexer": "ipython3",
   "version": "3.9.13"
  }
 },
 "nbformat": 4,
 "nbformat_minor": 1
}
